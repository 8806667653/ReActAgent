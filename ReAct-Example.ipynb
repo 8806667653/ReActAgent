{
 "cells": [
  {
   "cell_type": "markdown",
   "id": "a7e84064",
   "metadata": {},
   "source": [
    "# Build LLM Agent combining Reasoning and Action (ReAct) framework using LangChain - Ashish Kumar Jain"
   ]
  },
  {
   "cell_type": "markdown",
   "id": "9fff6ed1",
   "metadata": {},
   "source": [
    "### ReAct is technique which enable LLMs to do reasoning and take task specific actions. It combines chain of thought reasoning with action planning.It enables LLMs to generate reasoning traces and task-specific actions, leveraging the synergy between them. This approach demonstrates superior performance over baselines in various tasks, overcoming issues like hallucination and error propagation."
   ]
  },
  {
   "cell_type": "markdown",
   "id": "bb979589",
   "metadata": {},
   "source": [
    "### In the notebook we will use OPENAI ChatGPT model. We can integrate the ChatGPT model in our application using API provided by OPENAI. For accessing the API, we need to register with OPENAI and get the api key for the same. \n",
    "#### We will use Langchain framework and python code for illustration purpose. You can use this code for your applications.You can also refer Langchain site for more code references. You also need to install below required python library to run the code."
   ]
  },
  {
   "cell_type": "code",
   "execution_count": 1,
   "id": "f1edeeb0",
   "metadata": {},
   "outputs": [],
   "source": [
    "#pip install openai\n",
    "#pip install langchain\n",
    "#pip install wikipedia"
   ]
  },
  {
   "cell_type": "markdown",
   "id": "dc652cf0",
   "metadata": {},
   "source": [
    "#### First we need to load the key from environment variable and set into openai. You will get this key while registering with OPENAI."
   ]
  },
  {
   "cell_type": "code",
   "execution_count": 2,
   "id": "1d31d568",
   "metadata": {},
   "outputs": [],
   "source": [
    "import openai\n",
    "import os\n",
    "openai.api_key  = os.getenv('OPENAI_API_KEY')"
   ]
  },
  {
   "cell_type": "markdown",
   "id": "42a0a4bc",
   "metadata": {},
   "source": [
    "#### Langchain has concept of Agent. The core idea of agent is to use a language model to choose a sequence of actions to take. In agent, a language model is used as a reasoning engine to determine which actions to take and in which order. Langchain has inbuilt agent called DocStore Explorer agent whose functionality aligns with the original ReAct research paper, for the Wikipedia use case. \n",
    "\n",
    "#### DocStoreExplorer agent interacts with a document storage system (like Wikipedia), using two specific tools , a Search tool and a Lookup tool. The Search tool is responsible for locating a document, whereas the Lookup tool retrieves a term from the most recently discovered document. We can initialize this doc store with Wikipedia as a document store."
   ]
  },
  {
   "cell_type": "code",
   "execution_count": 3,
   "id": "984b63a6",
   "metadata": {},
   "outputs": [],
   "source": [
    "from langchain.agents.react.base import DocstoreExplorer\n",
    "from langchain.docstore import Wikipedia\n",
    "docstore = DocstoreExplorer(Wikipedia())"
   ]
  },
  {
   "cell_type": "markdown",
   "id": "3fc6598c",
   "metadata": {},
   "source": [
    "#### Another concept which Langchain provides is called tools. Tools are interfaces that an agent can use to interact with the outer world. We can create our own tool for Wikipedia API. In the tool specification, we can specify which function agent need to call for interaction with outer world."
   ]
  },
  {
   "cell_type": "code",
   "execution_count": 4,
   "id": "00307cb6",
   "metadata": {},
   "outputs": [],
   "source": [
    "from langchain.agents import Tool \n",
    "tools = [\n",
    "    Tool(\n",
    "        name=\"Search\",\n",
    "        func=docstore.search,\n",
    "        description=\"useful for when you need to ask with search\",\n",
    "    ),\n",
    "    Tool(\n",
    "        name=\"Lookup\",\n",
    "        func=docstore.lookup,\n",
    "        description=\"useful for when you need to ask with lookup\",\n",
    "    ),\n",
    "]"
   ]
  },
  {
   "cell_type": "markdown",
   "id": "07566cdd",
   "metadata": {},
   "source": [
    "#### Lets have GPT-4 model as a LLM for our application."
   ]
  },
  {
   "cell_type": "code",
   "execution_count": 5,
   "id": "b7a09fd3",
   "metadata": {},
   "outputs": [],
   "source": [
    "from langchain.chat_models import ChatOpenAI\n",
    "llm = ChatOpenAI(model_name=\"gpt-4\")"
   ]
  },
  {
   "cell_type": "markdown",
   "id": "11256244",
   "metadata": {},
   "source": [
    "#### Lets initialize agent with tools, llm and agent with all the information."
   ]
  },
  {
   "cell_type": "code",
   "execution_count": 6,
   "id": "adc69c4a",
   "metadata": {},
   "outputs": [],
   "source": [
    "from langchain.agents import AgentType, initialize_agent\n",
    "react = initialize_agent(tools, llm, agent=AgentType.REACT_DOCSTORE, verbose=True)"
   ]
  },
  {
   "cell_type": "markdown",
   "id": "c4d9781c",
   "metadata": {},
   "source": [
    "#### We can pass our question to our ReAct agent. Behind the scene, Agent will do interaction with OPENAI model using API. It will also pass tools information (description of functions ) to the model as an additional arguments (in case of OPENAI its called OPENAI functions) with prompt. If model want to take search or lookup actions then it returns that function description with function arguments (if any) to the agent. Then agent call that function using the tool and call Model again with that information. It will do this in iterative manner as explained above. All this magic is done by agent for us."
   ]
  },
  {
   "cell_type": "code",
   "execution_count": 7,
   "id": "54138459",
   "metadata": {},
   "outputs": [
    {
     "name": "stdout",
     "output_type": "stream",
     "text": [
      "\n",
      "\n",
      "\u001b[1m> Entering new AgentExecutor chain...\u001b[0m\n",
      "\u001b[32;1m\u001b[1;3mThought: I need to search Amitabh Bachchan and Shahrukh Khan, find their professions, then find the profession they have in common.\n",
      "Action: Search[Amitabh Bachchan]\u001b[0m\n",
      "Observation: \u001b[36;1m\u001b[1;3mAmitabh Bachchan (pronounced [əmɪˈt̪ɑːbʱ ˈbətːʃən]; born as Amitabh Srivastava; 11 October 1942) is an Indian actor, film producer, television host, occasional playback singer, and former politician actively engaged in Hindi cinema. With a cinematic journey spanning over five decades, he has played pivotal roles in over 200 films. Widely recognised as one of the most accomplished and influential actors in the history of Indian cinema. Bachchan is often hailed as the Shahenshah of Bollywood, Sadi Ke Mahanayak (translated as \"Greatest actor of the century\" in Hindi), Star of the Millennium, or simply Big B. His dominance in the Indian film industry during the 1970s–80s led the French director François Truffaut to describe it as a \"one-man industry\".Bachchan was born in 1942 in Allahabad (now Prayagraj) to the Hindi poet Harivansh Rai Bachchan and his wife, the social activist Teji Bachchan. He was educated at Sherwood College, Nainital, and Kirori Mal College, University of Delhi. His film career started in 1969 as a voice narrator in Mrinal Sen's film Bhuvan Shome. He first gained popularity in the early 1970s for films such as Anand, Zanjeer, Roti Kapada Aur Makaan, Deewaar and Sholay, and achieved greater stardom in later years, dubbed India's \"angry young man\" for several of his on-screen roles in Hindi films. He consistently starred in top grossing Indian films with critical acclaim since mid 1970s to 80s, such as Amar Akbar Anthony, Don, Trishul, Muqaddar Ka Sikander, Suhaag, Dostana, Naseeb, Laawaris, Kaalia, Namak Halaal, Coolie, Sharaabi and Mard, as well as some of his most acclaimed performances include Namak Haraam, Abhimaan, Majboor, Mili, Chupke Chupke, Kabhi Kabhie, Kaala Patthar, Shaan, Silsila, Shakti, Shahenshah and Agneepath. After taking a break from acting in the 1990s, his resurgence was marked in 2000 with Mohabbatein. Since then he starred in several successful and acclaimed films such as Kabhi Khushi Kabhie Gham, Aankhen, Baghban, Black, Bunty Aur Babli, Sarkar, Kabhi Alvida Naa Kehna, Paa, Piku, Pink and Badla. For Piku, he won his fourth National Film Award for Best Actor, making him the only actor to do so. Bachchan also made an appearance in a Hollywood film, The Great Gatsby (2013), in which he played a non-Indian Jewish character.He has won numerous accolades in his career, including record four National Film Awards in Best Actor category and many awards at international film festivals and award ceremonies. He has won sixteen Filmfare Awards and is the most nominated performer in any major acting category at Filmfare with 34 nominations in Best Actor and 42 nominations overall. The Government of India honoured him with the Padma Shri in 1984, the Padma Bhushan in 2001, the Padma Vibhushan in 2015, and India's highest award in the field of cinema, the Dadasaheb Phalke Award in 2018 for his contributions to the arts. The Government of France honoured him with its highest civilian honour, Knight of the Legion of honour, in 2007 for his exceptional career in the world of cinema and beyond.\n",
      "In addition to acting, Bachchan has worked as a playback singer, film producer, and television presenter. He has hosted several seasons of the game show Kaun Banega Crorepati, India's version of the game show franchise, Who Wants to Be a Millionaire?. He also entered politics for a time in the 1980s. Bachchan has also been involved in several humanitarian works and he is a leading brand endorser in India. Beyond the Indian subcontinent, he acquired a large overseas following of the South Asian diaspora, as well as others, in markets including Africa (South Africa, Eastern Africa, and Mauritius), the Middle East (especially UAE and Egypt), the United Kingdom, Russia, Central Asia, the Caribbean (Guyana, Suriname, and Trinidad and Tobago), Oceania (Fiji, Australia, and New Zealand), Canada and the United States. Bachchan was voted the \"greatest star of stage or screen\" by BBC Your Millennium online poll in 1999. In October 2003, TIME magazine dubbed Bachchan the \"Star of the Millennium\".\u001b[0m\n",
      "Thought:\u001b[32;1m\u001b[1;3mProfessions of Amitabh Bachchan are actor, film producer, television host, and former politician. I need to search Shahrukh Khan next and find his professions.\n",
      "Action: Search[Shahrukh Khan]\u001b[0m\n",
      "Observation: \u001b[36;1m\u001b[1;3mShah Rukh Khan (pronounced [ˈʃɑːɦɾʊx xɑːn]; born 2 November 1965), also known by the initialism SRK, is an Indian actor and film producer who works in Hindi films. Referred to in the media as the \"Baadshah of Bollywood\" and \"King Khan\", he has appeared in more than 90 films, and earned numerous accolades, including 14 Filmfare Awards. He has been awarded the Padma Shri by the Government of India, as well as the Ordre des Arts et des Lettres and Legion of Honour by the Government of France. Khan has a significant following in Asia and the Indian diaspora worldwide. In terms of audience size and income, several media outlets have described him as one of the most successful film stars in the world. Many of his films thematise Indian national identity and connections with diaspora communities, or gender, racial, social and religious differences and grievances.\n",
      "Khan began his career with appearances in several television series in the late 1980s and made his Bollywood debut in 1992 with Deewana. He was initially recognised for playing villainous roles in the films Baazigar (1993) and Darr (1993). Khan established himself by starring in a series of top-grossing romantic films, including Dilwale Dulhania Le Jayenge (1995), Dil To Pagal Hai (1997), Kuch Kuch Hota Hai (1998), Mohabbatein (2000), Kabhi Khushi Kabhie Gham... (2001), Kal Ho Naa Ho (2003), Veer-Zaara (2004) and Kabhi Alvida Naa Kehna (2006). He earned critical acclaim for his portrayal of an alcoholic in Devdas (2002), a NASA scientist in Swades (2004), a hockey coach in Chak De! India (2007), and a man with Asperger syndrome in My Name Is Khan (2010). Further commercial successes came with the romances Om Shanti Om (2007) and Rab Ne Bana Di Jodi (2008), and with his expansion to comedies in Chennai Express (2013) and Happy New Year (2014). Following a brief setback and hiatus, Khan made a career comeback with the 2023 action thrillers Pathaan, Jawan and Dunki, all three rank among the highest-grossing Hindi films.\n",
      "As of 2015, Khan is co-chairman of the motion picture production company Red Chillies Entertainment and its subsidiaries and is the co-owner of the Indian Premier League cricket team Kolkata Knight Riders and the Caribbean Premier League team Trinbago Knight Riders. The media often label him as \"Brand SRK\" because of his many endorsement and entrepreneurship ventures. He is a frequent television presenter and stage show performer. Khan's philanthropic endeavours have provided health care and disaster relief, and he was honoured with UNESCO's Pyramide con Marni award in 2011 for his support of children's education and the World Economic Forum's Crystal Award in 2018 for advocating for women's and children's rights in India. He regularly features in listings of the most influential people in Indian culture, and in 2008, Newsweek named him one of their fifty most powerful people in the world. In 2022, Khan was voted one of the 50 greatest actors of all time in a readers' poll by Empire, and in 2023, Time named him as one of the most influential people in the world.\u001b[0m\n",
      "Thought:\u001b[32;1m\u001b[1;3mProfessions of Shahrukh Khan are actor and film producer. So profession Amitabh Bachchan and Shahrukh Khan have in common is actor and film producer.\n",
      "Action: Finish[actor and film producer]\u001b[0m\n",
      "\n",
      "\u001b[1m> Finished chain.\u001b[0m\n"
     ]
    }
   ],
   "source": [
    "question = \"What profession does Amitabh Bachchan and Shahrukh Khan have in common?\"\n",
    "result = react.run(question)"
   ]
  },
  {
   "cell_type": "markdown",
   "id": "d6e150dc",
   "metadata": {},
   "source": [
    "#### We can finally get the answer"
   ]
  },
  {
   "cell_type": "code",
   "execution_count": 8,
   "id": "b2d094a0",
   "metadata": {},
   "outputs": [
    {
     "data": {
      "text/plain": [
       "'actor and film producer'"
      ]
     },
     "execution_count": 8,
     "metadata": {},
     "output_type": "execute_result"
    }
   ],
   "source": [
    "result"
   ]
  },
  {
   "cell_type": "code",
   "execution_count": null,
   "id": "6e1d3749",
   "metadata": {},
   "outputs": [],
   "source": []
  }
 ],
 "metadata": {
  "kernelspec": {
   "display_name": "Python 3 (ipykernel)",
   "language": "python",
   "name": "python3"
  },
  "language_info": {
   "codemirror_mode": {
    "name": "ipython",
    "version": 3
   },
   "file_extension": ".py",
   "mimetype": "text/x-python",
   "name": "python",
   "nbconvert_exporter": "python",
   "pygments_lexer": "ipython3",
   "version": "3.10.11"
  }
 },
 "nbformat": 4,
 "nbformat_minor": 5
}
